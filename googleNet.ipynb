{
 "cells": [
  {
   "cell_type": "code",
   "execution_count": 1,
   "id": "2bea6480",
   "metadata": {},
   "outputs": [],
   "source": [
    "import os\n",
    "import numpy as np\n",
    "import pandas as pd\n",
    "import tensorflow as tf\n",
    "import matplotlib.pyplot as plt\n",
    "from sklearn.utils.class_weight import compute_class_weight\n",
    "from tensorflow.keras.preprocessing.image import ImageDataGenerator, load_img, img_to_array\n",
    "from tensorflow.keras.applications import InceptionV3\n",
    "from tensorflow.keras.layers import Dense, GlobalAveragePooling2D, Dropout, Flatten\n",
    "from tensorflow.keras.models import Model\n",
    "from tensorflow.keras.optimizers import Adam\n",
    "from tensorflow.keras.callbacks import ModelCheckpoint, EarlyStopping\n"
   ]
  },
  {
   "cell_type": "code",
   "execution_count": 2,
   "id": "7ba7c7de",
   "metadata": {},
   "outputs": [],
   "source": [
    "# For example, if the dataset has subdirectories for 'train' and 'test' sets:\n",
    "train_dir = \"./big/train\"\n",
    "test_dir = \"./big/test\""
   ]
  },
  {
   "cell_type": "code",
   "execution_count": 3,
   "id": "c72a8452",
   "metadata": {},
   "outputs": [],
   "source": [
    "# Example categories (labels)\n",
    "categories = ['NORMAL', 'PNEUMONIA']"
   ]
  },
  {
   "cell_type": "code",
   "execution_count": 4,
   "id": "6d7f05b3",
   "metadata": {},
   "outputs": [
    {
     "name": "stdout",
     "output_type": "stream",
     "text": [
      "Error loading image ./big/train/NORMAL/.DS_Store: cannot identify image file <_io.BytesIO object at 0x17c7fb380>\n",
      "Error loading image ./big/train/PNEUMONIA/.DS_Store: cannot identify image file <_io.BytesIO object at 0x17c8ee7a0>\n",
      "Training data shape: (5216, 224, 224, 3)\n",
      "Test data shape: (624, 224, 224, 3)\n"
     ]
    }
   ],
   "source": [
    "# Function to load images and labels\n",
    "def load_images_from_directory(directory, categories):\n",
    "    images = []\n",
    "    labels = []\n",
    "    for category in categories:\n",
    "        category_dir = os.path.join(directory, category)\n",
    "        class_num = categories.index(category)\n",
    "        for img in os.listdir(category_dir):\n",
    "            img_path = os.path.join(category_dir, img)\n",
    "            try:\n",
    "                img = load_img(img_path, target_size=(224, 224))  # Resize images to 224x224\n",
    "                img = img_to_array(img)\n",
    "                images.append(img)\n",
    "                labels.append(class_num)\n",
    "            except Exception as e:\n",
    "                print(f\"Error loading image {img_path}: {e}\")\n",
    "    return np.array(images), np.array(labels)\n",
    "\n",
    "# Load training and test data\n",
    "train_images, train_labels = load_images_from_directory(train_dir, categories)\n",
    "test_images, test_labels = load_images_from_directory(test_dir, categories)\n",
    "\n",
    "print(f'Training data shape: {train_images.shape}')\n",
    "print(f'Test data shape: {test_images.shape}')"
   ]
  },
  {
   "cell_type": "code",
   "execution_count": 5,
   "id": "daadbaba",
   "metadata": {},
   "outputs": [],
   "source": [
    "# Data augmentation\n",
    "train_datagen = ImageDataGenerator(\n",
    "    rescale=1./255,            # Rescale pixel values from [0, 255] to [0, 1]\n",
    "    rotation_range=20,         # Randomly rotate images by up to 20 degrees\n",
    "    width_shift_range=0.2,     # Randomly translate images horizontally\n",
    "    height_shift_range=0.2,    # Randomly translate images vertically\n",
    "    shear_range=0.2,           # Randomly shear images\n",
    "    zoom_range=0.2,            # Randomly zoom in on images\n",
    "    horizontal_flip=True,      # Randomly flip images horizontally\n",
    "    fill_mode='nearest'        # Fill in newly created pixels after transformations\n",
    ")\n",
    "\n",
    "test_datagen = ImageDataGenerator(rescale=1./255)  # Only rescaling for test data\n",
    "\n",
    "# Fit the data generator to the training data\n",
    "train_generator = train_datagen.flow(train_images, train_labels, batch_size=32)\n",
    "test_generator = test_datagen.flow(test_images, test_labels, batch_size=32)\n"
   ]
  },
  {
   "cell_type": "code",
   "execution_count": 6,
   "id": "f52a0d52",
   "metadata": {},
   "outputs": [
    {
     "name": "stdout",
     "output_type": "stream",
     "text": [
      "Class weights: {0: 1.9448173005219984, 1: 0.6730322580645162}\n"
     ]
    }
   ],
   "source": [
    "# Calculate class weights\n",
    "class_weights = compute_class_weight(\n",
    "    class_weight='balanced',\n",
    "    classes=np.unique(train_labels),\n",
    "    y=train_labels\n",
    ")\n",
    "\n",
    "class_weights_dict = dict(enumerate(class_weights))\n",
    "print(f'Class weights: {class_weights_dict}')\n"
   ]
  },
  {
   "cell_type": "code",
   "execution_count": 7,
   "id": "7f0b7870",
   "metadata": {},
   "outputs": [],
   "source": [
    "np.save('train_images.npy', train_images)\n",
    "np.save('train_labels.npy', train_labels)\n",
    "np.save('test_images.npy', test_images)\n",
    "np.save('test_labels.npy', test_labels)"
   ]
  },
  {
   "cell_type": "code",
   "execution_count": 8,
   "id": "015bb479",
   "metadata": {},
   "outputs": [],
   "source": [
    "# Load the pre-trained InceptionV3 model, excluding the top layers\n",
    "base_model = InceptionV3(weights='imagenet', include_top=False, input_shape=(224, 224, 3))\n",
    "\n",
    "# Freeze the base model layers\n",
    "for layer in base_model.layers:\n",
    "    layer.trainable = False\n",
    "\n",
    "# Add custom layers on top of the base model\n",
    "x = base_model.output\n",
    "x = GlobalAveragePooling2D()(x)\n",
    "x = Dense(256, activation='relu')(x)  # Fully connected layer with 256 units\n",
    "predictions = Dense(2, activation='softmax')(x)  # Output layer for binary classification\n",
    "\n",
    "# Create the final model\n",
    "model = Model(inputs=base_model.input, outputs=predictions)\n"
   ]
  },
  {
   "cell_type": "code",
   "execution_count": 9,
   "id": "fb81a7fe",
   "metadata": {},
   "outputs": [],
   "source": [
    "model.compile(optimizer=Adam(learning_rate=0.0006), \n",
    "              loss='sparse_categorical_crossentropy', \n",
    "              metrics=['accuracy'])\n"
   ]
  },
  {
   "cell_type": "code",
   "execution_count": 10,
   "id": "1d7ef402",
   "metadata": {},
   "outputs": [],
   "source": [
    "# Data augmentation for training data\n",
    "train_datagen = ImageDataGenerator(\n",
    "    rescale=1./255,\n",
    "    rotation_range=20,\n",
    "    width_shift_range=0.2,\n",
    "    height_shift_range=0.2,\n",
    "    shear_range=0.2,\n",
    "    zoom_range=0.2,\n",
    "    horizontal_flip=True,\n",
    "    fill_mode='nearest'\n",
    ")\n",
    "\n",
    "# Only rescale test data\n",
    "test_datagen = ImageDataGenerator(rescale=1./255)\n",
    "\n",
    "# Fit the data generator to the training data\n",
    "train_generator = train_datagen.flow(train_images, train_labels, batch_size=32)\n",
    "test_generator = test_datagen.flow(test_images, test_labels, batch_size=32)\n"
   ]
  },
  {
   "cell_type": "code",
   "execution_count": 11,
   "id": "694761dc",
   "metadata": {},
   "outputs": [],
   "source": [
    "# Define callbacks\n",
    "checkpoint = ModelCheckpoint('best_model.keras', monitor='val_loss', save_best_only=True, mode='min')\n",
    "early_stopping = EarlyStopping(monitor='val_loss', patience=10, mode='min')\n",
    "\n",
    "callbacks = [checkpoint, early_stopping]\n"
   ]
  },
  {
   "cell_type": "code",
   "execution_count": 12,
   "id": "9a30395f",
   "metadata": {},
   "outputs": [
    {
     "name": "stdout",
     "output_type": "stream",
     "text": [
      "Epoch 1/30\n"
     ]
    },
    {
     "name": "stderr",
     "output_type": "stream",
     "text": [
      "/Users/azadpatel/anaconda3/lib/python3.11/site-packages/keras/src/trainers/data_adapters/py_dataset_adapter.py:121: UserWarning: Your `PyDataset` class should call `super().__init__(**kwargs)` in its constructor. `**kwargs` can include `workers`, `use_multiprocessing`, `max_queue_size`. Do not pass these arguments to `fit()`, as they will be ignored.\n",
      "  self._warn_if_super_not_called()\n"
     ]
    },
    {
     "name": "stdout",
     "output_type": "stream",
     "text": [
      "\u001b[1m163/163\u001b[0m \u001b[32m━━━━━━━━━━━━━━━━━━━━\u001b[0m\u001b[37m\u001b[0m \u001b[1m72s\u001b[0m 427ms/step - accuracy: 0.8193 - loss: 0.4387 - val_accuracy: 0.8349 - val_loss: 0.3677\n",
      "Epoch 2/30\n",
      "\u001b[1m163/163\u001b[0m \u001b[32m━━━━━━━━━━━━━━━━━━━━\u001b[0m\u001b[37m\u001b[0m \u001b[1m69s\u001b[0m 417ms/step - accuracy: 0.8997 - loss: 0.2445 - val_accuracy: 0.8526 - val_loss: 0.3476\n",
      "Epoch 3/30\n",
      "\u001b[1m163/163\u001b[0m \u001b[32m━━━━━━━━━━━━━━━━━━━━\u001b[0m\u001b[37m\u001b[0m \u001b[1m70s\u001b[0m 420ms/step - accuracy: 0.9120 - loss: 0.2121 - val_accuracy: 0.8429 - val_loss: 0.3556\n",
      "Epoch 4/30\n",
      "\u001b[1m163/163\u001b[0m \u001b[32m━━━━━━━━━━━━━━━━━━━━\u001b[0m\u001b[37m\u001b[0m \u001b[1m69s\u001b[0m 416ms/step - accuracy: 0.9074 - loss: 0.2226 - val_accuracy: 0.7772 - val_loss: 0.4950\n",
      "Epoch 5/30\n",
      "\u001b[1m163/163\u001b[0m \u001b[32m━━━━━━━━━━━━━━━━━━━━\u001b[0m\u001b[37m\u001b[0m \u001b[1m70s\u001b[0m 423ms/step - accuracy: 0.9141 - loss: 0.2153 - val_accuracy: 0.8237 - val_loss: 0.4242\n",
      "Epoch 6/30\n",
      "\u001b[1m163/163\u001b[0m \u001b[32m━━━━━━━━━━━━━━━━━━━━\u001b[0m\u001b[37m\u001b[0m \u001b[1m70s\u001b[0m 426ms/step - accuracy: 0.9279 - loss: 0.1855 - val_accuracy: 0.8462 - val_loss: 0.3684\n",
      "Epoch 7/30\n",
      "\u001b[1m163/163\u001b[0m \u001b[32m━━━━━━━━━━━━━━━━━━━━\u001b[0m\u001b[37m\u001b[0m \u001b[1m71s\u001b[0m 429ms/step - accuracy: 0.9252 - loss: 0.1806 - val_accuracy: 0.8542 - val_loss: 0.3439\n",
      "Epoch 8/30\n",
      "\u001b[1m163/163\u001b[0m \u001b[32m━━━━━━━━━━━━━━━━━━━━\u001b[0m\u001b[37m\u001b[0m \u001b[1m71s\u001b[0m 428ms/step - accuracy: 0.9202 - loss: 0.1834 - val_accuracy: 0.8429 - val_loss: 0.3578\n",
      "Epoch 9/30\n",
      "\u001b[1m163/163\u001b[0m \u001b[32m━━━━━━━━━━━━━━━━━━━━\u001b[0m\u001b[37m\u001b[0m \u001b[1m69s\u001b[0m 417ms/step - accuracy: 0.9111 - loss: 0.2108 - val_accuracy: 0.8462 - val_loss: 0.3474\n",
      "Epoch 10/30\n",
      "\u001b[1m163/163\u001b[0m \u001b[32m━━━━━━━━━━━━━━━━━━━━\u001b[0m\u001b[37m\u001b[0m \u001b[1m69s\u001b[0m 419ms/step - accuracy: 0.9329 - loss: 0.1707 - val_accuracy: 0.8077 - val_loss: 0.4283\n",
      "Epoch 11/30\n",
      "\u001b[1m163/163\u001b[0m \u001b[32m━━━━━━━━━━━━━━━━━━━━\u001b[0m\u001b[37m\u001b[0m \u001b[1m70s\u001b[0m 422ms/step - accuracy: 0.9304 - loss: 0.1698 - val_accuracy: 0.8510 - val_loss: 0.3419\n",
      "Epoch 12/30\n",
      "\u001b[1m163/163\u001b[0m \u001b[32m━━━━━━━━━━━━━━━━━━━━\u001b[0m\u001b[37m\u001b[0m \u001b[1m70s\u001b[0m 421ms/step - accuracy: 0.9360 - loss: 0.1622 - val_accuracy: 0.8670 - val_loss: 0.3256\n",
      "Epoch 13/30\n",
      "\u001b[1m163/163\u001b[0m \u001b[32m━━━━━━━━━━━━━━━━━━━━\u001b[0m\u001b[37m\u001b[0m \u001b[1m69s\u001b[0m 416ms/step - accuracy: 0.9291 - loss: 0.1737 - val_accuracy: 0.8686 - val_loss: 0.3304\n",
      "Epoch 14/30\n",
      "\u001b[1m163/163\u001b[0m \u001b[32m━━━━━━━━━━━━━━━━━━━━\u001b[0m\u001b[37m\u001b[0m \u001b[1m69s\u001b[0m 416ms/step - accuracy: 0.9261 - loss: 0.1918 - val_accuracy: 0.8413 - val_loss: 0.4021\n",
      "Epoch 15/30\n",
      "\u001b[1m163/163\u001b[0m \u001b[32m━━━━━━━━━━━━━━━━━━━━\u001b[0m\u001b[37m\u001b[0m \u001b[1m69s\u001b[0m 418ms/step - accuracy: 0.9257 - loss: 0.1744 - val_accuracy: 0.8510 - val_loss: 0.3515\n",
      "Epoch 16/30\n",
      "\u001b[1m163/163\u001b[0m \u001b[32m━━━━━━━━━━━━━━━━━━━━\u001b[0m\u001b[37m\u001b[0m \u001b[1m69s\u001b[0m 420ms/step - accuracy: 0.9348 - loss: 0.1587 - val_accuracy: 0.8638 - val_loss: 0.3313\n",
      "Epoch 17/30\n",
      "\u001b[1m163/163\u001b[0m \u001b[32m━━━━━━━━━━━━━━━━━━━━\u001b[0m\u001b[37m\u001b[0m \u001b[1m69s\u001b[0m 419ms/step - accuracy: 0.9359 - loss: 0.1671 - val_accuracy: 0.8750 - val_loss: 0.3158\n",
      "Epoch 18/30\n",
      "\u001b[1m163/163\u001b[0m \u001b[32m━━━━━━━━━━━━━━━━━━━━\u001b[0m\u001b[37m\u001b[0m \u001b[1m69s\u001b[0m 416ms/step - accuracy: 0.9313 - loss: 0.1762 - val_accuracy: 0.8766 - val_loss: 0.3024\n",
      "Epoch 19/30\n",
      "\u001b[1m163/163\u001b[0m \u001b[32m━━━━━━━━━━━━━━━━━━━━\u001b[0m\u001b[37m\u001b[0m \u001b[1m69s\u001b[0m 416ms/step - accuracy: 0.9347 - loss: 0.1588 - val_accuracy: 0.8734 - val_loss: 0.3415\n",
      "Epoch 20/30\n",
      "\u001b[1m163/163\u001b[0m \u001b[32m━━━━━━━━━━━━━━━━━━━━\u001b[0m\u001b[37m\u001b[0m \u001b[1m71s\u001b[0m 429ms/step - accuracy: 0.9318 - loss: 0.1688 - val_accuracy: 0.8798 - val_loss: 0.3362\n",
      "Epoch 21/30\n",
      "\u001b[1m163/163\u001b[0m \u001b[32m━━━━━━━━━━━━━━━━━━━━\u001b[0m\u001b[37m\u001b[0m \u001b[1m83s\u001b[0m 500ms/step - accuracy: 0.9332 - loss: 0.1695 - val_accuracy: 0.8798 - val_loss: 0.3253\n",
      "Epoch 22/30\n",
      "\u001b[1m163/163\u001b[0m \u001b[32m━━━━━━━━━━━━━━━━━━━━\u001b[0m\u001b[37m\u001b[0m \u001b[1m83s\u001b[0m 502ms/step - accuracy: 0.9315 - loss: 0.1650 - val_accuracy: 0.8750 - val_loss: 0.3389\n",
      "Epoch 23/30\n",
      "\u001b[1m163/163\u001b[0m \u001b[32m━━━━━━━━━━━━━━━━━━━━\u001b[0m\u001b[37m\u001b[0m \u001b[1m83s\u001b[0m 499ms/step - accuracy: 0.9367 - loss: 0.1484 - val_accuracy: 0.8734 - val_loss: 0.3302\n",
      "Epoch 24/30\n",
      "\u001b[1m163/163\u001b[0m \u001b[32m━━━━━━━━━━━━━━━━━━━━\u001b[0m\u001b[37m\u001b[0m \u001b[1m88s\u001b[0m 529ms/step - accuracy: 0.9357 - loss: 0.1599 - val_accuracy: 0.8718 - val_loss: 0.3309\n",
      "Epoch 25/30\n",
      "\u001b[1m163/163\u001b[0m \u001b[32m━━━━━━━━━━━━━━━━━━━━\u001b[0m\u001b[37m\u001b[0m \u001b[1m93s\u001b[0m 562ms/step - accuracy: 0.9377 - loss: 0.1462 - val_accuracy: 0.8718 - val_loss: 0.3336\n",
      "Epoch 26/30\n",
      "\u001b[1m163/163\u001b[0m \u001b[32m━━━━━━━━━━━━━━━━━━━━\u001b[0m\u001b[37m\u001b[0m \u001b[1m84s\u001b[0m 504ms/step - accuracy: 0.9359 - loss: 0.1504 - val_accuracy: 0.8510 - val_loss: 0.3608\n",
      "Epoch 27/30\n",
      "\u001b[1m163/163\u001b[0m \u001b[32m━━━━━━━━━━━━━━━━━━━━\u001b[0m\u001b[37m\u001b[0m \u001b[1m84s\u001b[0m 505ms/step - accuracy: 0.9445 - loss: 0.1457 - val_accuracy: 0.8702 - val_loss: 0.3129\n",
      "Epoch 28/30\n",
      "\u001b[1m163/163\u001b[0m \u001b[32m━━━━━━━━━━━━━━━━━━━━\u001b[0m\u001b[37m\u001b[0m \u001b[1m83s\u001b[0m 498ms/step - accuracy: 0.9279 - loss: 0.1727 - val_accuracy: 0.8782 - val_loss: 0.3237\n"
     ]
    }
   ],
   "source": [
    "# Train the model\n",
    "history = model.fit(\n",
    "    train_generator,\n",
    "    epochs=30,\n",
    "    validation_data=test_generator,\n",
    "    class_weight=class_weights_dict,\n",
    "    callbacks=callbacks\n",
    ")\n",
    "\n"
   ]
  },
  {
   "cell_type": "code",
   "execution_count": 42,
   "id": "49abb13c",
   "metadata": {},
   "outputs": [
    {
     "name": "stdout",
     "output_type": "stream",
     "text": [
      "\u001b[1m163/163\u001b[0m \u001b[32m━━━━━━━━━━━━━━━━━━━━\u001b[0m\u001b[37m\u001b[0m \u001b[1m71s\u001b[0m 435ms/step - accuracy: 0.9241 - loss: 0.1858\n",
      "Train Loss: 0.18697108328342438\n",
      "Train Accuracy: 0.9235045909881592\n",
      "\u001b[1m20/20\u001b[0m \u001b[32m━━━━━━━━━━━━━━━━━━━━\u001b[0m\u001b[37m\u001b[0m \u001b[1m8s\u001b[0m 405ms/step - accuracy: 0.8863 - loss: 0.2936\n",
      "Test loss: 0.2848252058029175\n",
      "Test accuracy:  0.8910256624221802\n"
     ]
    }
   ],
   "source": [
    "# Load the best model\n",
    "# model.load_weights('best_model.keras')\n",
    "\n",
    "train_scores = model.evaluate(train_generator)\n",
    "print(\"Train Loss:\", train_scores[0])\n",
    "print(\"Train Accuracy:\", train_scores[1])\n",
    "# Evaluate the model on the test data\n",
    "test_scores = model.evaluate(test_generator)\n",
    "print(f'Test loss:', test_scores[0])\n",
    "print(f'Test accuracy: ', test_scores[1])\n"
   ]
  },
  {
   "cell_type": "code",
   "execution_count": 22,
   "id": "f641df93",
   "metadata": {},
   "outputs": [],
   "source": [
    "# Save the model (optional)\n",
    "model.save('my_model.keras')"
   ]
  },
  {
   "cell_type": "code",
   "execution_count": 41,
   "id": "476b6713",
   "metadata": {},
   "outputs": [
    {
     "name": "stdout",
     "output_type": "stream",
     "text": [
      "\u001b[1m163/163\u001b[0m \u001b[32m━━━━━━━━━━━━━━━━━━━━\u001b[0m\u001b[37m\u001b[0m \u001b[1m74s\u001b[0m 450ms/step - accuracy: 0.9287 - loss: 0.1772\n",
      "Train loss: 0.1780519336462021\n",
      "Train accuracy: 0.92695552110672\n",
      "\u001b[1m20/20\u001b[0m \u001b[32m━━━━━━━━━━━━━━━━━━━━\u001b[0m\u001b[37m\u001b[0m \u001b[1m8s\u001b[0m 420ms/step - accuracy: 0.8822 - loss: 0.3035\n",
      "Test loss: 0.2848252058029175\n",
      "Test accuracy: 0.8910256624221802\n"
     ]
    }
   ],
   "source": [
    "\n",
    "loss_train, accuracy_train = model.evaluate(train_generator)\n",
    "print(f'Train loss: {loss_train}')\n",
    "print(f'Train accuracy: {accuracy_train}')\n",
    "\n",
    "loss_test, accuracy_test = model.evaluate(test_generator)\n",
    "print(f'Test loss: {loss_test}')\n",
    "print(f'Test accuracy: {accuracy_test}')\n"
   ]
  },
  {
   "cell_type": "code",
   "execution_count": null,
   "id": "8a1cb48f",
   "metadata": {},
   "outputs": [],
   "source": []
  }
 ],
 "metadata": {
  "kernelspec": {
   "display_name": "Python 3 (ipykernel)",
   "language": "python",
   "name": "python3"
  },
  "language_info": {
   "codemirror_mode": {
    "name": "ipython",
    "version": 3
   },
   "file_extension": ".py",
   "mimetype": "text/x-python",
   "name": "python",
   "nbconvert_exporter": "python",
   "pygments_lexer": "ipython3",
   "version": "3.11.5"
  }
 },
 "nbformat": 4,
 "nbformat_minor": 5
}
